{
  "nbformat": 4,
  "nbformat_minor": 0,
  "metadata": {
    "colab": {
      "name": "tutorial_1.ipynb",
      "version": "0.3.2",
      "provenance": [],
      "include_colab_link": true
    },
    "kernelspec": {
      "name": "python3",
      "display_name": "Python 3"
    }
  },
  "cells": [
    {
      "cell_type": "markdown",
      "metadata": {
        "id": "view-in-github",
        "colab_type": "text"
      },
      "source": [
        "<a href=\"https://colab.research.google.com/github/somsirsa/Colab-Machine-Learning/blob/master/Linear%20Regression%20on%20synthetic%20data.ipynb\" target=\"_parent\"><img src=\"https://colab.research.google.com/assets/colab-badge.svg\" alt=\"Open In Colab\"/></a>"
      ]
    },
    {
      "metadata": {
        "id": "z62rJ5IupCLs",
        "colab_type": "text"
      },
      "cell_type": "markdown",
      "source": [
        "Building recommendation system using MXNET"
      ]
    },
    {
      "metadata": {
        "id": "tKmrY_KTW1sr",
        "colab_type": "code",
        "colab": {}
      },
      "cell_type": "code",
      "source": [
        "from __future__ import print_function\n",
        "import mxnet as mx\n",
        "from mxnet import nd, autograd, gluon\n",
        "mx.random.seed(1)"
      ],
      "execution_count": 0,
      "outputs": []
    },
    {
      "metadata": {
        "id": "q9ghvTujtVKc",
        "colab_type": "code",
        "colab": {}
      },
      "cell_type": "code",
      "source": [
        "data_ctx = mx.cpu()\n",
        "model_ctx = mx.cpu()"
      ],
      "execution_count": 0,
      "outputs": []
    },
    {
      "metadata": {
        "id": "qP4715-TOvJC",
        "colab_type": "code",
        "colab": {}
      },
      "cell_type": "code",
      "source": [
        "num_inputs = 2\n",
        "num_outputs = 1\n",
        "num_examples = 10000\n",
        "\n",
        "def real_fn(X):\n",
        "    return 2 * X[:, 0] - 3.4 * X[:, 1] + 4.2\n",
        "\n",
        "X = nd.random_normal(shape=(num_examples, num_inputs), ctx=data_ctx)\n",
        "noise = .1 * nd.random_normal(shape=(num_examples,), ctx=data_ctx)\n",
        "y = real_fn(X) + noise"
      ],
      "execution_count": 0,
      "outputs": []
    },
    {
      "metadata": {
        "id": "M6kA5YyQSLh3",
        "colab_type": "code",
        "outputId": "64c75954-a6b1-4011-a8ff-784b0f746e8c",
        "colab": {
          "base_uri": "https://localhost:8080/",
          "height": 119
        }
      },
      "cell_type": "code",
      "source": [
        "print(X[0])\n",
        "print(y[0])"
      ],
      "execution_count": 15,
      "outputs": [
        {
          "output_type": "stream",
          "text": [
            "\n",
            "[-0.6776515   0.10073948]\n",
            "<NDArray 2 @cpu(0)>\n",
            "\n",
            "[2.4451]\n",
            "<NDArray 1 @cpu(0)>\n"
          ],
          "name": "stdout"
        }
      ]
    },
    {
      "metadata": {
        "id": "xVcrzXkat4W2",
        "colab_type": "code",
        "colab": {
          "base_uri": "https://localhost:8080/",
          "height": 348
        },
        "outputId": "271085f2-faee-4825-81d0-7ad14a228158"
      },
      "cell_type": "code",
      "source": [
        "\n",
        "import matplotlib.pyplot as plt\n",
        "plt.scatter(X[:, 1].asnumpy(),y.asnumpy())\n",
        "plt.show()"
      ],
      "execution_count": 16,
      "outputs": [
        {
          "output_type": "display_data",
          "data": {
            "image/png": "[encoded data removed]",
            "text/plain": [
              "<matplotlib.figure.Figure at 0x7f4e6b942518>"
            ]
          },
          "metadata": {
            "tags": []
          }
        }
      ]
    },
    {
      "metadata": {
        "id": "ghEnxB5suFYW",
        "colab_type": "code",
        "colab": {}
      },
      "cell_type": "code",
      "source": [
        "batch_size = 4\n",
        "train_data = gluon.data.DataLoader(gluon.data.ArrayDataset(X, y),\n",
        "                                   batch_size=batch_size, shuffle=True)"
      ],
      "execution_count": 0,
      "outputs": []
    },
    {
      "metadata": {
        "id": "lVd3btTEuM5-",
        "colab_type": "code",
        "colab": {
          "base_uri": "https://localhost:8080/",
          "height": 153
        },
        "outputId": "a3638802-38ba-43e5-883c-272862440be9"
      },
      "cell_type": "code",
      "source": [
        "for i, (data, label) in enumerate(train_data):\n",
        "    print(data, label)\n",
        "    break"
      ],
      "execution_count": 20,
      "outputs": [
        {
          "output_type": "stream",
          "text": [
            "\n",
            "[[ 0.27998534  0.90691674]\n",
            " [-1.2187992  -0.37136126]\n",
            " [-1.7014323  -1.2428706 ]\n",
            " [ 0.13421537 -3.4900203 ]]\n",
            "<NDArray 4x2 @cpu(0)> \n",
            "[ 1.720399   3.0362916  5.0434985 16.118498 ]\n",
            "<NDArray 4 @cpu(0)>\n"
          ],
          "name": "stdout"
        }
      ]
    },
    {
      "metadata": {
        "id": "_ynCkbmiuu5i",
        "colab_type": "code",
        "colab": {}
      },
      "cell_type": "code",
      "source": [
        "w = nd.random_normal(shape=(num_inputs, num_outputs), ctx=model_ctx)\n",
        "b = nd.random_normal(shape=num_outputs, ctx=model_ctx)\n",
        "params = [w, b]"
      ],
      "execution_count": 0,
      "outputs": []
    },
    {
      "metadata": {
        "id": "nfmQsoeuu7qx",
        "colab_type": "code",
        "colab": {}
      },
      "cell_type": "code",
      "source": [
        "for param in params:\n",
        "    param.attach_grad()"
      ],
      "execution_count": 0,
      "outputs": []
    },
    {
      "metadata": {
        "id": "3IKuIvd9u-iZ",
        "colab_type": "code",
        "colab": {}
      },
      "cell_type": "code",
      "source": [
        "def net(X):\n",
        "    return mx.nd.dot(X, w) + b"
      ],
      "execution_count": 0,
      "outputs": []
    },
    {
      "metadata": {
        "id": "7lf5uwgPvKSB",
        "colab_type": "code",
        "colab": {}
      },
      "cell_type": "code",
      "source": [
        "def square_loss(yhat, y):\n",
        "    return nd.mean((yhat - y) ** 2)"
      ],
      "execution_count": 0,
      "outputs": []
    },
    {
      "metadata": {
        "id": "ofbLdCibXfRM",
        "colab_type": "text"
      },
      "cell_type": "markdown",
      "source": [
        "# New Section"
      ]
    }
  ]
}